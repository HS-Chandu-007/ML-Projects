{
 "cells": [
  {
   "cell_type": "code",
   "execution_count": 1,
   "id": "7c56ea48",
   "metadata": {
    "execution": {
     "iopub.execute_input": "2025-07-18T06:18:18.388855Z",
     "iopub.status.busy": "2025-07-18T06:18:18.388520Z",
     "iopub.status.idle": "2025-07-18T06:18:22.448858Z",
     "shell.execute_reply": "2025-07-18T06:18:22.448090Z"
    },
    "papermill": {
     "duration": 4.066148,
     "end_time": "2025-07-18T06:18:22.450518",
     "exception": false,
     "start_time": "2025-07-18T06:18:18.384370",
     "status": "completed"
    },
    "tags": []
   },
   "outputs": [],
   "source": [
    "import pandas as pd\n",
    "import seaborn as sns\n",
    "import matplotlib.pyplot as plt\n",
    "from sklearn.model_selection import train_test_split\n",
    "from sklearn.feature_extraction.text import CountVectorizer\n",
    "from sklearn.naive_bayes import MultinomialNB\n",
    "from sklearn.metrics import accuracy_score, classification_report\n",
    "from sklearn.metrics import confusion_matrix, ConfusionMatrixDisplay\n",
    "\n",
    "import warnings\n",
    "warnings.filterwarnings('ignore')"
   ]
  },
  {
   "cell_type": "code",
   "execution_count": 2,
   "id": "18b21336",
   "metadata": {
    "execution": {
     "iopub.execute_input": "2025-07-18T06:18:22.457380Z",
     "iopub.status.busy": "2025-07-18T06:18:22.456663Z",
     "iopub.status.idle": "2025-07-18T06:18:22.520472Z",
     "shell.execute_reply": "2025-07-18T06:18:22.519595Z"
    },
    "papermill": {
     "duration": 0.068526,
     "end_time": "2025-07-18T06:18:22.521970",
     "exception": false,
     "start_time": "2025-07-18T06:18:22.453444",
     "status": "completed"
    },
    "tags": []
   },
   "outputs": [
    {
     "data": {
      "text/html": [
       "<div>\n",
       "<style scoped>\n",
       "    .dataframe tbody tr th:only-of-type {\n",
       "        vertical-align: middle;\n",
       "    }\n",
       "\n",
       "    .dataframe tbody tr th {\n",
       "        vertical-align: top;\n",
       "    }\n",
       "\n",
       "    .dataframe thead th {\n",
       "        text-align: right;\n",
       "    }\n",
       "</style>\n",
       "<table border=\"1\" class=\"dataframe\">\n",
       "  <thead>\n",
       "    <tr style=\"text-align: right;\">\n",
       "      <th></th>\n",
       "      <th>Category</th>\n",
       "      <th>Message</th>\n",
       "    </tr>\n",
       "  </thead>\n",
       "  <tbody>\n",
       "    <tr>\n",
       "      <th>0</th>\n",
       "      <td>ham</td>\n",
       "      <td>Go until jurong point, crazy.. Available only ...</td>\n",
       "    </tr>\n",
       "    <tr>\n",
       "      <th>1</th>\n",
       "      <td>ham</td>\n",
       "      <td>Ok lar... Joking wif u oni...</td>\n",
       "    </tr>\n",
       "    <tr>\n",
       "      <th>2</th>\n",
       "      <td>spam</td>\n",
       "      <td>Free entry in 2 a wkly comp to win FA Cup fina...</td>\n",
       "    </tr>\n",
       "    <tr>\n",
       "      <th>3</th>\n",
       "      <td>ham</td>\n",
       "      <td>U dun say so early hor... U c already then say...</td>\n",
       "    </tr>\n",
       "    <tr>\n",
       "      <th>4</th>\n",
       "      <td>ham</td>\n",
       "      <td>Nah I don't think he goes to usf, he lives aro...</td>\n",
       "    </tr>\n",
       "  </tbody>\n",
       "</table>\n",
       "</div>"
      ],
      "text/plain": [
       "  Category                                            Message\n",
       "0      ham  Go until jurong point, crazy.. Available only ...\n",
       "1      ham                      Ok lar... Joking wif u oni...\n",
       "2     spam  Free entry in 2 a wkly comp to win FA Cup fina...\n",
       "3      ham  U dun say so early hor... U c already then say...\n",
       "4      ham  Nah I don't think he goes to usf, he lives aro..."
      ]
     },
     "execution_count": 2,
     "metadata": {},
     "output_type": "execute_result"
    }
   ],
   "source": [
    "data = pd.read_csv('/kaggle/input/spam-emails/spam.csv')\n",
    "df = pd.DataFrame(data)\n",
    "df.head()"
   ]
  },
  {
   "cell_type": "code",
   "execution_count": 3,
   "id": "1db8ab2c",
   "metadata": {
    "execution": {
     "iopub.execute_input": "2025-07-18T06:18:22.528412Z",
     "iopub.status.busy": "2025-07-18T06:18:22.528110Z",
     "iopub.status.idle": "2025-07-18T06:18:22.535659Z",
     "shell.execute_reply": "2025-07-18T06:18:22.534819Z"
    },
    "papermill": {
     "duration": 0.012276,
     "end_time": "2025-07-18T06:18:22.537024",
     "exception": false,
     "start_time": "2025-07-18T06:18:22.524748",
     "status": "completed"
    },
    "tags": []
   },
   "outputs": [
    {
     "data": {
      "text/plain": [
       "Category    0\n",
       "Message     0\n",
       "dtype: int64"
      ]
     },
     "execution_count": 3,
     "metadata": {},
     "output_type": "execute_result"
    }
   ],
   "source": [
    "df.isnull().sum()"
   ]
  },
  {
   "cell_type": "code",
   "execution_count": 4,
   "id": "c5a1a4ba",
   "metadata": {
    "execution": {
     "iopub.execute_input": "2025-07-18T06:18:22.544230Z",
     "iopub.status.busy": "2025-07-18T06:18:22.543870Z",
     "iopub.status.idle": "2025-07-18T06:18:22.552714Z",
     "shell.execute_reply": "2025-07-18T06:18:22.551819Z"
    },
    "papermill": {
     "duration": 0.01423,
     "end_time": "2025-07-18T06:18:22.554089",
     "exception": false,
     "start_time": "2025-07-18T06:18:22.539859",
     "status": "completed"
    },
    "tags": []
   },
   "outputs": [
    {
     "data": {
      "text/html": [
       "<div>\n",
       "<style scoped>\n",
       "    .dataframe tbody tr th:only-of-type {\n",
       "        vertical-align: middle;\n",
       "    }\n",
       "\n",
       "    .dataframe tbody tr th {\n",
       "        vertical-align: top;\n",
       "    }\n",
       "\n",
       "    .dataframe thead th {\n",
       "        text-align: right;\n",
       "    }\n",
       "</style>\n",
       "<table border=\"1\" class=\"dataframe\">\n",
       "  <thead>\n",
       "    <tr style=\"text-align: right;\">\n",
       "      <th></th>\n",
       "      <th>label</th>\n",
       "      <th>text</th>\n",
       "    </tr>\n",
       "  </thead>\n",
       "  <tbody>\n",
       "    <tr>\n",
       "      <th>0</th>\n",
       "      <td>ham</td>\n",
       "      <td>Go until jurong point, crazy.. Available only ...</td>\n",
       "    </tr>\n",
       "    <tr>\n",
       "      <th>1</th>\n",
       "      <td>ham</td>\n",
       "      <td>Ok lar... Joking wif u oni...</td>\n",
       "    </tr>\n",
       "    <tr>\n",
       "      <th>2</th>\n",
       "      <td>spam</td>\n",
       "      <td>Free entry in 2 a wkly comp to win FA Cup fina...</td>\n",
       "    </tr>\n",
       "    <tr>\n",
       "      <th>3</th>\n",
       "      <td>ham</td>\n",
       "      <td>U dun say so early hor... U c already then say...</td>\n",
       "    </tr>\n",
       "    <tr>\n",
       "      <th>4</th>\n",
       "      <td>ham</td>\n",
       "      <td>Nah I don't think he goes to usf, he lives aro...</td>\n",
       "    </tr>\n",
       "  </tbody>\n",
       "</table>\n",
       "</div>"
      ],
      "text/plain": [
       "  label                                               text\n",
       "0   ham  Go until jurong point, crazy.. Available only ...\n",
       "1   ham                      Ok lar... Joking wif u oni...\n",
       "2  spam  Free entry in 2 a wkly comp to win FA Cup fina...\n",
       "3   ham  U dun say so early hor... U c already then say...\n",
       "4   ham  Nah I don't think he goes to usf, he lives aro..."
      ]
     },
     "execution_count": 4,
     "metadata": {},
     "output_type": "execute_result"
    }
   ],
   "source": [
    "df.columns = ['label', 'text']\n",
    "df.head()"
   ]
  },
  {
   "cell_type": "code",
   "execution_count": 5,
   "id": "cbc5fc99",
   "metadata": {
    "execution": {
     "iopub.execute_input": "2025-07-18T06:18:22.560996Z",
     "iopub.status.busy": "2025-07-18T06:18:22.560707Z",
     "iopub.status.idle": "2025-07-18T06:18:22.574269Z",
     "shell.execute_reply": "2025-07-18T06:18:22.573336Z"
    },
    "papermill": {
     "duration": 0.018823,
     "end_time": "2025-07-18T06:18:22.575826",
     "exception": false,
     "start_time": "2025-07-18T06:18:22.557003",
     "status": "completed"
    },
    "tags": []
   },
   "outputs": [
    {
     "data": {
      "text/html": [
       "<div>\n",
       "<style scoped>\n",
       "    .dataframe tbody tr th:only-of-type {\n",
       "        vertical-align: middle;\n",
       "    }\n",
       "\n",
       "    .dataframe tbody tr th {\n",
       "        vertical-align: top;\n",
       "    }\n",
       "\n",
       "    .dataframe thead th {\n",
       "        text-align: right;\n",
       "    }\n",
       "</style>\n",
       "<table border=\"1\" class=\"dataframe\">\n",
       "  <thead>\n",
       "    <tr style=\"text-align: right;\">\n",
       "      <th></th>\n",
       "      <th>label</th>\n",
       "      <th>text</th>\n",
       "    </tr>\n",
       "  </thead>\n",
       "  <tbody>\n",
       "    <tr>\n",
       "      <th>0</th>\n",
       "      <td>0</td>\n",
       "      <td>Go until jurong point, crazy.. Available only ...</td>\n",
       "    </tr>\n",
       "    <tr>\n",
       "      <th>1</th>\n",
       "      <td>0</td>\n",
       "      <td>Ok lar... Joking wif u oni...</td>\n",
       "    </tr>\n",
       "    <tr>\n",
       "      <th>2</th>\n",
       "      <td>1</td>\n",
       "      <td>Free entry in 2 a wkly comp to win FA Cup fina...</td>\n",
       "    </tr>\n",
       "    <tr>\n",
       "      <th>3</th>\n",
       "      <td>0</td>\n",
       "      <td>U dun say so early hor... U c already then say...</td>\n",
       "    </tr>\n",
       "    <tr>\n",
       "      <th>4</th>\n",
       "      <td>0</td>\n",
       "      <td>Nah I don't think he goes to usf, he lives aro...</td>\n",
       "    </tr>\n",
       "  </tbody>\n",
       "</table>\n",
       "</div>"
      ],
      "text/plain": [
       "   label                                               text\n",
       "0      0  Go until jurong point, crazy.. Available only ...\n",
       "1      0                      Ok lar... Joking wif u oni...\n",
       "2      1  Free entry in 2 a wkly comp to win FA Cup fina...\n",
       "3      0  U dun say so early hor... U c already then say...\n",
       "4      0  Nah I don't think he goes to usf, he lives aro..."
      ]
     },
     "execution_count": 5,
     "metadata": {},
     "output_type": "execute_result"
    }
   ],
   "source": [
    "df['label'] = df['label'].map({'ham': 0, 'spam': 1})\n",
    "df.head()"
   ]
  },
  {
   "cell_type": "code",
   "execution_count": 6,
   "id": "e877742e",
   "metadata": {
    "execution": {
     "iopub.execute_input": "2025-07-18T06:18:22.583108Z",
     "iopub.status.busy": "2025-07-18T06:18:22.582790Z",
     "iopub.status.idle": "2025-07-18T06:18:22.687569Z",
     "shell.execute_reply": "2025-07-18T06:18:22.686630Z"
    },
    "papermill": {
     "duration": 0.110132,
     "end_time": "2025-07-18T06:18:22.689153",
     "exception": false,
     "start_time": "2025-07-18T06:18:22.579021",
     "status": "completed"
    },
    "tags": []
   },
   "outputs": [],
   "source": [
    "X_train, X_test, y_train, y_test = train_test_split(df['text'], df['label'], test_size = 0.2, random_state = 42)\n",
    "\n",
    "vectorizer = CountVectorizer()\n",
    "X_trainvec = vectorizer.fit_transform(X_train)\n",
    "X_testvec = vectorizer.transform(X_test)"
   ]
  },
  {
   "cell_type": "code",
   "execution_count": 7,
   "id": "80acff26",
   "metadata": {
    "execution": {
     "iopub.execute_input": "2025-07-18T06:18:22.696461Z",
     "iopub.status.busy": "2025-07-18T06:18:22.696176Z",
     "iopub.status.idle": "2025-07-18T06:18:22.723677Z",
     "shell.execute_reply": "2025-07-18T06:18:22.722630Z"
    },
    "papermill": {
     "duration": 0.033007,
     "end_time": "2025-07-18T06:18:22.725311",
     "exception": false,
     "start_time": "2025-07-18T06:18:22.692304",
     "status": "completed"
    },
    "tags": []
   },
   "outputs": [
    {
     "name": "stdout",
     "output_type": "stream",
     "text": [
      "Accuracy of train data: 0.9932690150325331\n"
     ]
    }
   ],
   "source": [
    "model = MultinomialNB()\n",
    "model.fit(X_trainvec, y_train)\n",
    "\n",
    "trainpred = model.predict(X_trainvec)\n",
    "print(\"Accuracy of train data:\", accuracy_score(y_train, trainpred))"
   ]
  },
  {
   "cell_type": "code",
   "execution_count": 8,
   "id": "fae51ab3",
   "metadata": {
    "execution": {
     "iopub.execute_input": "2025-07-18T06:18:22.732445Z",
     "iopub.status.busy": "2025-07-18T06:18:22.732129Z",
     "iopub.status.idle": "2025-07-18T06:18:22.738789Z",
     "shell.execute_reply": "2025-07-18T06:18:22.737863Z"
    },
    "papermill": {
     "duration": 0.01195,
     "end_time": "2025-07-18T06:18:22.740314",
     "exception": false,
     "start_time": "2025-07-18T06:18:22.728364",
     "status": "completed"
    },
    "tags": []
   },
   "outputs": [
    {
     "name": "stdout",
     "output_type": "stream",
     "text": [
      "Accuracy of test data: 0.9919282511210762\n"
     ]
    }
   ],
   "source": [
    "testpred = model.predict(X_testvec)\n",
    "print(\"Accuracy of test data:\", accuracy_score(y_test, testpred))"
   ]
  },
  {
   "cell_type": "code",
   "execution_count": 9,
   "id": "dba6c57d",
   "metadata": {
    "execution": {
     "iopub.execute_input": "2025-07-18T06:18:22.747913Z",
     "iopub.status.busy": "2025-07-18T06:18:22.747326Z",
     "iopub.status.idle": "2025-07-18T06:18:23.045217Z",
     "shell.execute_reply": "2025-07-18T06:18:23.044332Z"
    },
    "papermill": {
     "duration": 0.303561,
     "end_time": "2025-07-18T06:18:23.046988",
     "exception": false,
     "start_time": "2025-07-18T06:18:22.743427",
     "status": "completed"
    },
    "tags": []
   },
   "outputs": [
    {
     "data": {
      "text/plain": [
       "<sklearn.metrics._plot.confusion_matrix.ConfusionMatrixDisplay at 0x785ea904f9d0>"
      ]
     },
     "execution_count": 9,
     "metadata": {},
     "output_type": "execute_result"
    },
    {
     "data": {
      "image/png": "[encoded data removed]",
      "text/plain": [
       "<Figure size 640x480 with 2 Axes>"
      ]
     },
     "metadata": {},
     "output_type": "display_data"
    }
   ],
   "source": [
    "cm = confusion_matrix(y_test, testpred, labels=model.classes_)\n",
    "disp = ConfusionMatrixDisplay(confusion_matrix=cm, display_labels=model.classes_)\n",
    "disp.plot(cmap=\"Blues\")"
   ]
  },
  {
   "cell_type": "code",
   "execution_count": null,
   "id": "a586c4cf",
   "metadata": {
    "papermill": {
     "duration": 0.003242,
     "end_time": "2025-07-18T06:18:23.053985",
     "exception": false,
     "start_time": "2025-07-18T06:18:23.050743",
     "status": "completed"
    },
    "tags": []
   },
   "outputs": [],
   "source": []
  }
 ],
 "metadata": {
  "kaggle": {
   "accelerator": "none",
   "dataSources": [
    {
     "datasetId": 3839058,
     "sourceId": 6651650,
     "sourceType": "datasetVersion"
    }
   ],
   "dockerImageVersionId": 31089,
   "isGpuEnabled": false,
   "isInternetEnabled": true,
   "language": "python",
   "sourceType": "notebook"
  },
  "kernelspec": {
   "display_name": "Python 3",
   "language": "python",
   "name": "python3"
  },
  "language_info": {
   "codemirror_mode": {
    "name": "ipython",
    "version": 3
   },
   "file_extension": ".py",
   "mimetype": "text/x-python",
   "name": "python",
   "nbconvert_exporter": "python",
   "pygments_lexer": "ipython3",
   "version": "3.11.13"
  },
  "papermill": {
   "default_parameters": {},
   "duration": 10.170713,
   "end_time": "2025-07-18T06:18:23.777786",
   "environment_variables": {},
   "exception": null,
   "input_path": "__notebook__.ipynb",
   "output_path": "__notebook__.ipynb",
   "parameters": {},
   "start_time": "2025-07-18T06:18:13.607073",
   "version": "2.6.0"
  }
 },
 "nbformat": 4,
 "nbformat_minor": 5
}
